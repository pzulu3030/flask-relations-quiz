{
 "cells": [
  {
   "cell_type": "markdown",
   "id": "0f33ae3d-28b2-435f-8bae-8b20872c1639",
   "metadata": {},
   "source": [
    "# Flask Relations Quiz"
   ]
  },
  {
   "cell_type": "markdown",
   "id": "f37a43d4-a289-47ab-b082-20d9f71d195d",
   "metadata": {},
   "source": [
    "### Introduction"
   ]
  },
  {
   "cell_type": "markdown",
   "id": "a0effe7c-e16c-427c-8660-bcefd171af79",
   "metadata": {},
   "source": [
    "This is the aforementioned quiz.  Welcome, and have a seat. This is quite serious.\n",
    "\n",
    "Ok, so please take your time.  If you need more additional time -- for example, additional time in the next class -- then that's fine.  \n",
    "\n",
    "Just treat try to approach similarly to like you would a lab.  You'll finish when you finish.  Please do not look at past lab or old code to complete it.  No chatgpt, of course.  But you can use google for syntax issues.  "
   ]
  },
  {
   "cell_type": "markdown",
   "id": "25025968-7149-4020-a736-bf20c8e84403",
   "metadata": {},
   "source": [
    "### Loading our data\n",
    "\n",
    "We can begin by making sure our postgres application is running (if on a Mac, look for the elephant at the top right of the screen).  Once running we'll walk through the instructions in the [Adventureworks for postgres](https://github.com/lorint/AdventureWorks-for-Postgres) repo below.\n",
    "\n",
    "First move into the `backend/install-script` directory.  Then run the following:\n",
    "\n",
    "```bash\n",
    "psql -c \"CREATE DATABASE \\\"adventureworks\\\";\"\n",
    "psql -d adventureworks < install.sql\n",
    "```"
   ]
  },
  {
   "cell_type": "markdown",
   "id": "51bd2386-aba1-48f6-b5fe-956417980e80",
   "metadata": {},
   "source": [
    "One confusing thing is that if we simply type `\\dt` to display our tables, we won't find any listed.  This is because all of our tables are under different schemas.  We can see this if, while connected to the adventureworks database, we run the following:\n",
    "\n",
    "```sql\n",
    "\\dt (humanresources|person|production|purchasing|sales).*\n",
    "```"
   ]
  },
  {
   "cell_type": "markdown",
   "id": "636ff45b-32b8-4413-846c-488148ac0996",
   "metadata": {},
   "source": [
    "So, as we can see, there are indeed a lot of tables in our database.  And we can query any of those tables with the schema prefix like so.\n",
    "\n",
    "```sql\n",
    "select * from person.address limit 1;\n",
    "```"
   ]
  },
  {
   "cell_type": "code",
   "execution_count": 2,
   "id": "1210fda2-a8cd-48ad-a60a-dd3da0acbef7",
   "metadata": {},
   "outputs": [
    {
     "data": {
      "text/html": [
       "<div>\n",
       "<style scoped>\n",
       "    .dataframe tbody tr th:only-of-type {\n",
       "        vertical-align: middle;\n",
       "    }\n",
       "\n",
       "    .dataframe tbody tr th {\n",
       "        vertical-align: top;\n",
       "    }\n",
       "\n",
       "    .dataframe thead th {\n",
       "        text-align: right;\n",
       "    }\n",
       "</style>\n",
       "<table border=\"1\" class=\"dataframe\">\n",
       "  <thead>\n",
       "    <tr style=\"text-align: right;\">\n",
       "      <th></th>\n",
       "      <th>addressid</th>\n",
       "      <th>addressline1</th>\n",
       "      <th>addressline2</th>\n",
       "      <th>city</th>\n",
       "      <th>stateprovinceid</th>\n",
       "      <th>postalcode</th>\n",
       "      <th>spatiallocation</th>\n",
       "      <th>rowguid</th>\n",
       "      <th>modifieddate</th>\n",
       "    </tr>\n",
       "  </thead>\n",
       "  <tbody>\n",
       "    <tr>\n",
       "      <th>0</th>\n",
       "      <td>1</td>\n",
       "      <td>1970 Napa Ct.</td>\n",
       "      <td>None</td>\n",
       "      <td>Bothell</td>\n",
       "      <td>79</td>\n",
       "      <td>98011</td>\n",
       "      <td>E6100000010CAE8BFC28BCE4474067A89189898A5EC0</td>\n",
       "      <td>9aadcb0d-36cf-483f-84d8-585c2d4ec6e9</td>\n",
       "      <td>2007-12-04</td>\n",
       "    </tr>\n",
       "    <tr>\n",
       "      <th>1</th>\n",
       "      <td>2</td>\n",
       "      <td>9833 Mt. Dias Blv.</td>\n",
       "      <td>None</td>\n",
       "      <td>Bothell</td>\n",
       "      <td>79</td>\n",
       "      <td>98011</td>\n",
       "      <td>E6100000010CD6FA851AE6D74740BC262A0A03905EC0</td>\n",
       "      <td>32a54b9e-e034-4bfb-b573-a71cde60d8c0</td>\n",
       "      <td>2008-11-30</td>\n",
       "    </tr>\n",
       "    <tr>\n",
       "      <th>2</th>\n",
       "      <td>3</td>\n",
       "      <td>7484 Roundtree Drive</td>\n",
       "      <td>None</td>\n",
       "      <td>Bothell</td>\n",
       "      <td>79</td>\n",
       "      <td>98011</td>\n",
       "      <td>E6100000010C18E304C4ADE14740DA930C7893915EC0</td>\n",
       "      <td>4c506923-6d1b-452c-a07c-baa6f5b142a4</td>\n",
       "      <td>2013-03-07</td>\n",
       "    </tr>\n",
       "  </tbody>\n",
       "</table>\n",
       "</div>"
      ],
      "text/plain": [
       "   addressid          addressline1 addressline2     city  stateprovinceid  \\\n",
       "0          1         1970 Napa Ct.         None  Bothell               79   \n",
       "1          2    9833 Mt. Dias Blv.         None  Bothell               79   \n",
       "2          3  7484 Roundtree Drive         None  Bothell               79   \n",
       "\n",
       "  postalcode                               spatiallocation  \\\n",
       "0      98011  E6100000010CAE8BFC28BCE4474067A89189898A5EC0   \n",
       "1      98011  E6100000010CD6FA851AE6D74740BC262A0A03905EC0   \n",
       "2      98011  E6100000010C18E304C4ADE14740DA930C7893915EC0   \n",
       "\n",
       "                                rowguid modifieddate  \n",
       "0  9aadcb0d-36cf-483f-84d8-585c2d4ec6e9   2007-12-04  \n",
       "1  32a54b9e-e034-4bfb-b573-a71cde60d8c0   2008-11-30  \n",
       "2  4c506923-6d1b-452c-a07c-baa6f5b142a4   2013-03-07  "
      ]
     },
     "execution_count": 2,
     "metadata": {},
     "output_type": "execute_result"
    }
   ],
   "source": [
    "import pandas as pd\n",
    "import psycopg2\n",
    "import warnings\n",
    "warnings.filterwarnings('ignore')\n",
    "\n",
    "conn = psycopg2.connect(dbname='adventureworks')\n",
    "sample_df = pd.read_sql(\"\"\"select * from person.address limit 3\"\"\", conn)\n",
    "sample_df"
   ]
  },
  {
   "cell_type": "markdown",
   "id": "23271025-5de0-4a7b-97bc-62940787cead",
   "metadata": {},
   "source": [
    "We should also create our test database.  First create a test database by connecting to postgres, and issuing the following command."
   ]
  },
  {
   "cell_type": "markdown",
   "id": "fe817d11-4806-4d4a-b557-3f6284ea3781",
   "metadata": {},
   "source": [
    "```bash\n",
    "create database adventureworks_test;\n",
    "```"
   ]
  },
  {
   "cell_type": "markdown",
   "id": "0474dd56-27b2-41b7-8008-1f41a53d040d",
   "metadata": {},
   "source": [
    "Then **log out of postgres**, and from bash, run the following."
   ]
  },
  {
   "cell_type": "markdown",
   "id": "af41db7f-8e3e-4f14-a144-f8652527ced2",
   "metadata": {},
   "source": [
    "> This will copy the tables and their structure to our `adventureworks_test` database."
   ]
  },
  {
   "cell_type": "markdown",
   "id": "fd0b0864-d387-495e-8b4d-761fa0361fd1",
   "metadata": {},
   "source": [
    "From there we can run the following to create some tables in the test database."
   ]
  },
  {
   "cell_type": "markdown",
   "id": "b9df743a-d878-4953-862e-f9e70fd6450c",
   "metadata": {},
   "source": [
    "```bash\n",
    "psql -d adventureworks_test -f test_db.sql\n",
    "```"
   ]
  },
  {
   "cell_type": "markdown",
   "id": "2200b169-dc31-44e4-9dfb-0cc6ef8dc46e",
   "metadata": {},
   "source": [
    "And then we can display the tables in the person schema."
   ]
  },
  {
   "cell_type": "markdown",
   "id": "89c37e05-c233-4d2c-a67b-78983f936ba8",
   "metadata": {},
   "source": [
    "```sql\n",
    "\\dt person.*\n",
    "```"
   ]
  },
  {
   "cell_type": "markdown",
   "id": "5514d50d-d112-463f-85ec-3454dd440557",
   "metadata": {},
   "source": [
    "We can see the structure of the tables we'll be working with here. **You can see that the `BusinessEntityId` often serves as the primary key.**"
   ]
  },
  {
   "cell_type": "markdown",
   "id": "b7cdb824-7e00-49fc-b40e-31bccd492a50",
   "metadata": {},
   "source": [
    "> Or just open the following [link](https://i.stack.imgur.com/LMu4W.gif)."
   ]
  },
  {
   "cell_type": "markdown",
   "id": "a890b1b2-98d0-494b-83df-5e7026155180",
   "metadata": {},
   "source": [
    "<img src=\"./schema.png\" width=\"100%\">"
   ]
  },
  {
   "cell_type": "markdown",
   "id": "d5d444b0-d4c1-4ddd-b688-ca9550a93650",
   "metadata": {},
   "source": [
    "# Building our initial resource"
   ]
  },
  {
   "cell_type": "markdown",
   "id": "88405749-2009-48b1-86e5-62e55c7422d7",
   "metadata": {},
   "source": [
    "Ok, now let's move onto our flask application."
   ]
  },
  {
   "cell_type": "markdown",
   "id": "d347ef76-440d-45c5-aade-96124fb55f98",
   "metadata": {},
   "source": [
    "> **Note**: Remember you do have a console.py file.  And a run.py file to bootup your web app.  You also have a development database with some data loaded in.  So when you get stuck, move away from the tests use your console, boot up your webserver, or connect to postgres -- don't just keep hacking away in the same spot.  If nothing else, you'll be practicing a good procedure, and learning the right approach."
   ]
  },
  {
   "cell_type": "markdown",
   "id": "ca30c183-93e5-4a68-8f3e-e93392ccc619",
   "metadata": {
    "tags": []
   },
   "source": [
    "### A. Building the data layer (models and orm)"
   ]
  },
  {
   "cell_type": "markdown",
   "id": "b67dc1bd-f53e-45d7-b818-666acef6b2bc",
   "metadata": {},
   "source": [
    "0.  Exploring the data layer\n",
    "\n",
    "You can see that we already added some initial models for you.  It may be worth drawing out the relations between them, and keeping track of the foreign keys that connect them."
   ]
  },
  {
   "cell_type": "markdown",
   "id": "6f909b57-3477-4cb7-a128-7dbfb32cf9a6",
   "metadata": {},
   "source": [
    "1. Adding some utility methods"
   ]
  },
  {
   "cell_type": "markdown",
   "id": "b3d158e2-c87b-4648-91b9-272307de6c2c",
   "metadata": {},
   "source": [
    "Ok, now let's add some methods to our orm.py file.  Please **do not** look at past labs/readings for this. \n",
    "\n",
    "* `find(cursor, Class, limit)`\n",
    "    * Returns the specified instance.\n",
    "\n",
    "* `find_all(cursor, Class, limit = 10)`\n",
    "    * Should return a list of instances, and also take a argument of limit, with a default value set to 10, so that it only returns the first 10 instances from the corresponding class/table.  It should query the database to retrieve the records.  "
   ]
  },
  {
   "cell_type": "markdown",
   "id": "f97197a9-40ea-445d-b9d4-96de5fe63ba2",
   "metadata": {},
   "source": [
    "3. Add a class method\n",
    "\n",
    "* `Person.find_or_create_by_first_last_name_and_id()`\n",
    "    * For this method, if the first, last name and businessentityid of the person already exists, please return that person.  And if the first name, lastname, and businessentityid does not exist, please create a new record in the database with the specified first and last name.   \n",
    "    * Please be careful to avoid a risk of sql injection when writing this method."
   ]
  },
  {
   "cell_type": "markdown",
   "id": "1eabafe6-1338-460c-858c-1e7a3f1d4f59",
   "metadata": {},
   "source": [
    "### 2. Building the Flask Application"
   ]
  },
  {
   "cell_type": "markdown",
   "id": "3b62b9e9-a6cf-4071-9985-4770ec21efdd",
   "metadata": {},
   "source": [
    "1. Begin by initializing a flask application.  Write it in the `api/__init__.py` file and use the `create_app` function, that takes an argument of the database name.  Create a `run.py` file that initializes tha app.\n",
    "\n",
    "2. Create a route (ie. an endpoint) such that the `root_url` returns the following string `welcome to the imdb movies app`.\n"
   ]
  },
  {
   "cell_type": "markdown",
   "id": "096738fd-f9ab-40e4-a958-0b462e8642fb",
   "metadata": {},
   "source": [
    "> You can test this, and following routes by running the `test_app.py` file."
   ]
  },
  {
   "cell_type": "markdown",
   "id": "32ec7099-9a52-4f53-ad7e-e76715c0fd4b",
   "metadata": {},
   "source": [
    "3. Create a route of `/persons` that returns the first ten persons in the database."
   ]
  },
  {
   "cell_type": "markdown",
   "id": "d049aa75-95be-4c5a-9a52-f75f01c5b56a",
   "metadata": {},
   "source": [
    "**Note**: Use the get_db function to connect to the database.\n",
    "```python\n",
    "conn = get_db()\n",
    "cursor = conn.cursor()\n",
    "```"
   ]
  },
  {
   "cell_type": "markdown",
   "id": "0e75268d-0b71-422f-8e56-f9a50191c508",
   "metadata": {},
   "source": [
    "4. Show all by lastname\n",
    "\n",
    "* Next create a route `/persons/lastname/<lastname>` where we can pass through a last name and it will return json of all of the individuals with that last name."
   ]
  },
  {
   "cell_type": "markdown",
   "id": "ff9454cf-a91c-4464-ae98-2f7bbd5d1bfd",
   "metadata": {},
   "source": [
    "### 3. Build an Address Resource"
   ]
  },
  {
   "cell_type": "markdown",
   "id": "df973f0c-4d6b-439c-92df-3ef25e79da8a",
   "metadata": {},
   "source": [
    "Next let's build out the address resource.  There are no model tests for this, however you can see what we need you to complete in the `test_app.py`. \n",
    "\n",
    "Please get those two tests to pass, and along the way add any additional methods in the respective model(s)."
   ]
  },
  {
   "cell_type": "markdown",
   "id": "7aa730ba-c6cf-4004-bb5e-392a353c4f63",
   "metadata": {},
   "source": [
    "### 4. Adding missing tests\n",
    "\n",
    "* Now please add a test for any methods that you added to the Person model in the previous section.  You can add these to the `test_person.py` file."
   ]
  }
 ],
 "metadata": {
  "kernelspec": {
   "display_name": "Python 3 (ipykernel)",
   "language": "python",
   "name": "python3"
  },
  "language_info": {
   "codemirror_mode": {
    "name": "ipython",
    "version": 3
   },
   "file_extension": ".py",
   "mimetype": "text/x-python",
   "name": "python",
   "nbconvert_exporter": "python",
   "pygments_lexer": "ipython3",
   "version": "3.9.12"
  }
 },
 "nbformat": 4,
 "nbformat_minor": 5
}
