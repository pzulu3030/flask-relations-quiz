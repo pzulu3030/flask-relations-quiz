{
 "cells": [
  {
   "cell_type": "markdown",
   "id": "31a78b2a-3004-43c9-b382-f46c1b3f37b4",
   "metadata": {},
   "source": [
    "# Quiz Submission"
   ]
  },
  {
   "cell_type": "markdown",
   "id": "1e6dcaeb-8af2-4e8a-ab02-3b2411d2cbef",
   "metadata": {},
   "source": [
    "Nice work.  Please copy your code below."
   ]
  },
  {
   "cell_type": "markdown",
   "id": "1a62da86-4e04-4a9a-b796-73c0117adf80",
   "metadata": {},
   "source": [
    "Write your name."
   ]
  },
  {
   "cell_type": "markdown",
   "id": "279f1a6d-a90c-430c-9cc9-bf5fff58e507",
   "metadata": {},
   "source": []
  },
  {
   "cell_type": "markdown",
   "id": "22609364-7367-4f11-8699-64f5e00e6c9b",
   "metadata": {},
   "source": [
    "1. `person.py`\n",
    "\n",
    "> Please copy all of the code in the person.py file and paste it below."
   ]
  },
  {
   "cell_type": "code",
   "execution_count": null,
   "id": "9bf205f0-0213-43a6-993e-4f6ad791f993",
   "metadata": {},
   "outputs": [],
   "source": []
  },
  {
   "cell_type": "markdown",
   "id": "410d2dd3-02c9-40aa-8837-01f181888d08",
   "metadata": {},
   "source": [
    "2. `orm.py`"
   ]
  },
  {
   "cell_type": "code",
   "execution_count": null,
   "id": "60508096-1d16-4533-829a-fea3d131616f",
   "metadata": {},
   "outputs": [],
   "source": []
  },
  {
   "cell_type": "markdown",
   "id": "5eb65d67-b488-4dcf-b17c-9ae89c7f499e",
   "metadata": {},
   "source": [
    "3. `__init__.py`"
   ]
  },
  {
   "cell_type": "code",
   "execution_count": null,
   "id": "793829eb-a46a-46d9-9ff8-35c2acce3f88",
   "metadata": {},
   "outputs": [],
   "source": []
  },
  {
   "cell_type": "markdown",
   "id": "30034cac-faf0-41a1-85a7-e5b41dc3a5dc",
   "metadata": {},
   "source": [
    "4. Any additional tests in the `test_person.py` file?  Add them below."
   ]
  },
  {
   "cell_type": "code",
   "execution_count": null,
   "id": "e5a22d8d-9982-484f-9c43-e4e7648d5482",
   "metadata": {},
   "outputs": [],
   "source": []
  }
 ],
 "metadata": {
  "kernelspec": {
   "display_name": "Python 3 (ipykernel)",
   "language": "python",
   "name": "python3"
  },
  "language_info": {
   "codemirror_mode": {
    "name": "ipython",
    "version": 3
   },
   "file_extension": ".py",
   "mimetype": "text/x-python",
   "name": "python",
   "nbconvert_exporter": "python",
   "pygments_lexer": "ipython3",
   "version": "3.9.12"
  }
 },
 "nbformat": 4,
 "nbformat_minor": 5
}
